{
  "nbformat": 4,
  "nbformat_minor": 0,
  "metadata": {
    "colab": {
      "provenance": []
    },
    "kernelspec": {
      "name": "python3",
      "display_name": "Python 3"
    },
    "language_info": {
      "name": "python"
    }
  },
  "cells": [
    {
      "cell_type": "code",
      "execution_count": null,
      "metadata": {
        "id": "P8n6TwlEuFYJ"
      },
      "outputs": [],
      "source": [
        "!pip install graphdatascience"
      ]
    },
    {
      "cell_type": "markdown",
      "source": [
        "The client is imported as the GraphDataScience class. The `aura_ds=True` constructor argument should be used to have the recommended non-default configuration settings of the Python Driver applied automatically."
      ],
      "metadata": {
        "id": "QPbHOUizv9lF"
      }
    },
    {
      "cell_type": "code",
      "source": [
        "# Client import\n",
        "from graphdatascience import GraphDataScience\n",
        "\n",
        "# Replace with the actual URI, username and password\n",
        "AURA_CONNECTION_URI = \"neo4j+s://xxxxxxxx.databases.neo4j.io\"\n",
        "AURA_USERNAME = \"neo4j\"\n",
        "AURA_PASSWORD = \"\"\n",
        "\n",
        "# Client instantiation\n",
        "gds = GraphDataScience(\n",
        "    AURA_CONNECTION_URI,\n",
        "    auth=(AURA_USERNAME, AURA_PASSWORD),\n",
        "    aura_ds=True\n",
        ")"
      ],
      "metadata": {
        "id": "o1shsW0Jv9Dw"
      },
      "execution_count": null,
      "outputs": []
    },
    {
      "cell_type": "markdown",
      "source": [
        "In this example the `gds.version` procedure can be used to retrieve the version of GDS running on the database."
      ],
      "metadata": {
        "id": "htdxTDMmv5ba"
      }
    },
    {
      "cell_type": "code",
      "source": [
        "# Call a GDS method directly\n",
        "print(gds.version())"
      ],
      "metadata": {
        "colab": {
          "base_uri": "https://localhost:8080/"
        },
        "id": "kqitF3s8wEuZ",
        "outputId": "8e5a19c9-55d8-4743-9c5d-7cf369622048"
      },
      "execution_count": null,
      "outputs": [
        {
          "output_type": "stream",
          "name": "stdout",
          "text": [
            "2.0.0-alpha05\n"
          ]
        }
      ]
    },
    {
      "cell_type": "markdown",
      "source": [
        "The following code retrieves all the procedures available in the library and shows the details of five of them."
      ],
      "metadata": {
        "id": "SQ2g6Dz2vxKA"
      }
    },
    {
      "cell_type": "code",
      "source": [
        "# Assign the result of the call to a variable\n",
        "results = gds.list()\n",
        "\n",
        "# Print the result (a Pandas DataFrame)\n",
        "print(results[:5])"
      ],
      "metadata": {
        "colab": {
          "base_uri": "https://localhost:8080/"
        },
        "id": "5923s4D-wK-C",
        "outputId": "a1556485-d272-49c1-ef14-fd16e4d21154"
      },
      "execution_count": null,
      "outputs": [
        {
          "output_type": "stream",
          "name": "stdout",
          "text": [
            "                                         name  \\\n",
            "0           gds.allShortestPaths.delta.mutate   \n",
            "1  gds.allShortestPaths.delta.mutate.estimate   \n",
            "2           gds.allShortestPaths.delta.stream   \n",
            "3  gds.allShortestPaths.delta.stream.estimate   \n",
            "4            gds.allShortestPaths.delta.write   \n",
            "\n",
            "                                         description  \\\n",
            "0  The Delta Stepping shortest path algorithm com...   \n",
            "1  Returns an estimation of the memory consumptio...   \n",
            "2  The Delta Stepping shortest path algorithm com...   \n",
            "3  Returns an estimation of the memory consumptio...   \n",
            "4  The Delta Stepping shortest path algorithm com...   \n",
            "\n",
            "                                           signature       type  \n",
            "0  gds.allShortestPaths.delta.mutate(graphName ::...  procedure  \n",
            "1  gds.allShortestPaths.delta.mutate.estimate(gra...  procedure  \n",
            "2  gds.allShortestPaths.delta.stream(graphName ::...  procedure  \n",
            "3  gds.allShortestPaths.delta.stream.estimate(gra...  procedure  \n",
            "4  gds.allShortestPaths.delta.write(graphName :: ...  procedure  \n"
          ]
        }
      ]
    },
    {
      "cell_type": "markdown",
      "source": [
        "Since the result is a Pandas DataFrame, you can use methods such as `to_string` and `to_json` to prettify the print."
      ],
      "metadata": {
        "id": "FnJg5RAMvk0i"
      }
    },
    {
      "cell_type": "code",
      "source": [
        "# Print the result (a Pandas DataFrame) as a console-friendly string\n",
        "print(results[:5].to_string())"
      ],
      "metadata": {
        "colab": {
          "base_uri": "https://localhost:8080/"
        },
        "id": "SvwKnkQ0uVcj",
        "outputId": "59a6d1e2-dc5c-4ef2-b531-589f069fdf58"
      },
      "execution_count": null,
      "outputs": [
        {
          "output_type": "stream",
          "name": "stdout",
          "text": [
            "                                         name                                                                                                                                                               description                                                                                                                                                                                                                                                                                                                                 signature       type\n",
            "0           gds.allShortestPaths.delta.mutate  The Delta Stepping shortest path algorithm computes the shortest (weighted) path between one node and any other node in the graph. The computation is run multi-threaded                                                                  gds.allShortestPaths.delta.mutate(graphName :: STRING?, configuration = {} :: MAP?) :: (relationshipsWritten :: INTEGER?, mutateMillis :: INTEGER?, postProcessingMillis :: INTEGER?, preProcessingMillis :: INTEGER?, computeMillis :: INTEGER?, configuration :: MAP?)  procedure\n",
            "1  gds.allShortestPaths.delta.mutate.estimate                                                                                                       Returns an estimation of the memory consumption for that procedure.  gds.allShortestPaths.delta.mutate.estimate(graphNameOrConfiguration :: ANY?, algoConfiguration :: MAP?) :: (requiredMemory :: STRING?, treeView :: STRING?, mapView :: MAP?, bytesMin :: INTEGER?, bytesMax :: INTEGER?, nodeCount :: INTEGER?, relationshipCount :: INTEGER?, heapPercentageMin :: FLOAT?, heapPercentageMax :: FLOAT?)  procedure\n",
            "2           gds.allShortestPaths.delta.stream  The Delta Stepping shortest path algorithm computes the shortest (weighted) path between one node and any other node in the graph. The computation is run multi-threaded                                                                                    gds.allShortestPaths.delta.stream(graphName :: STRING?, configuration = {} :: MAP?) :: (index :: INTEGER?, sourceNode :: INTEGER?, targetNode :: INTEGER?, totalCost :: FLOAT?, nodeIds :: LIST? OF INTEGER?, costs :: LIST? OF FLOAT?, path :: PATH?)  procedure\n",
            "3  gds.allShortestPaths.delta.stream.estimate                                                                                                       Returns an estimation of the memory consumption for that procedure.  gds.allShortestPaths.delta.stream.estimate(graphNameOrConfiguration :: ANY?, algoConfiguration :: MAP?) :: (requiredMemory :: STRING?, treeView :: STRING?, mapView :: MAP?, bytesMin :: INTEGER?, bytesMax :: INTEGER?, nodeCount :: INTEGER?, relationshipCount :: INTEGER?, heapPercentageMin :: FLOAT?, heapPercentageMax :: FLOAT?)  procedure\n",
            "4            gds.allShortestPaths.delta.write  The Delta Stepping shortest path algorithm computes the shortest (weighted) path between one node and any other node in the graph. The computation is run multi-threaded                                                                    gds.allShortestPaths.delta.write(graphName :: STRING?, configuration = {} :: MAP?) :: (relationshipsWritten :: INTEGER?, writeMillis :: INTEGER?, postProcessingMillis :: INTEGER?, preProcessingMillis :: INTEGER?, computeMillis :: INTEGER?, configuration :: MAP?)  procedure\n"
          ]
        }
      ]
    },
    {
      "cell_type": "code",
      "source": [
        "# Print the result (a Pandas DataFrame) as a prettified JSON string\n",
        "print(results[:5].to_json(orient=\"table\", indent=2))"
      ],
      "metadata": {
        "colab": {
          "base_uri": "https://localhost:8080/"
        },
        "id": "hcYT9oJtwStw",
        "outputId": "b02af1ca-dcef-4034-8071-509194732868"
      },
      "execution_count": null,
      "outputs": [
        {
          "output_type": "stream",
          "name": "stdout",
          "text": [
            "{\n",
            "  \"schema\":{\n",
            "    \"fields\":[\n",
            "      {\n",
            "        \"name\":\"index\",\n",
            "        \"type\":\"integer\"\n",
            "      },\n",
            "      {\n",
            "        \"name\":\"name\",\n",
            "        \"type\":\"string\"\n",
            "      },\n",
            "      {\n",
            "        \"name\":\"description\",\n",
            "        \"type\":\"string\"\n",
            "      },\n",
            "      {\n",
            "        \"name\":\"signature\",\n",
            "        \"type\":\"string\"\n",
            "      },\n",
            "      {\n",
            "        \"name\":\"type\",\n",
            "        \"type\":\"string\"\n",
            "      }\n",
            "    ],\n",
            "    \"primaryKey\":[\n",
            "      \"index\"\n",
            "    ],\n",
            "    \"pandas_version\":\"0.20.0\"\n",
            "  },\n",
            "  \"data\":[\n",
            "    {\n",
            "      \"index\":0,\n",
            "      \"name\":\"gds.allShortestPaths.delta.mutate\",\n",
            "      \"description\":\"The Delta Stepping shortest path algorithm computes the shortest (weighted) path between one node and any other node in the graph. The computation is run multi-threaded\",\n",
            "      \"signature\":\"gds.allShortestPaths.delta.mutate(graphName :: STRING?, configuration = {} :: MAP?) :: (relationshipsWritten :: INTEGER?, mutateMillis :: INTEGER?, postProcessingMillis :: INTEGER?, preProcessingMillis :: INTEGER?, computeMillis :: INTEGER?, configuration :: MAP?)\",\n",
            "      \"type\":\"procedure\"\n",
            "    },\n",
            "    {\n",
            "      \"index\":1,\n",
            "      \"name\":\"gds.allShortestPaths.delta.mutate.estimate\",\n",
            "      \"description\":\"Returns an estimation of the memory consumption for that procedure.\",\n",
            "      \"signature\":\"gds.allShortestPaths.delta.mutate.estimate(graphNameOrConfiguration :: ANY?, algoConfiguration :: MAP?) :: (requiredMemory :: STRING?, treeView :: STRING?, mapView :: MAP?, bytesMin :: INTEGER?, bytesMax :: INTEGER?, nodeCount :: INTEGER?, relationshipCount :: INTEGER?, heapPercentageMin :: FLOAT?, heapPercentageMax :: FLOAT?)\",\n",
            "      \"type\":\"procedure\"\n",
            "    },\n",
            "    {\n",
            "      \"index\":2,\n",
            "      \"name\":\"gds.allShortestPaths.delta.stream\",\n",
            "      \"description\":\"The Delta Stepping shortest path algorithm computes the shortest (weighted) path between one node and any other node in the graph. The computation is run multi-threaded\",\n",
            "      \"signature\":\"gds.allShortestPaths.delta.stream(graphName :: STRING?, configuration = {} :: MAP?) :: (index :: INTEGER?, sourceNode :: INTEGER?, targetNode :: INTEGER?, totalCost :: FLOAT?, nodeIds :: LIST? OF INTEGER?, costs :: LIST? OF FLOAT?, path :: PATH?)\",\n",
            "      \"type\":\"procedure\"\n",
            "    },\n",
            "    {\n",
            "      \"index\":3,\n",
            "      \"name\":\"gds.allShortestPaths.delta.stream.estimate\",\n",
            "      \"description\":\"Returns an estimation of the memory consumption for that procedure.\",\n",
            "      \"signature\":\"gds.allShortestPaths.delta.stream.estimate(graphNameOrConfiguration :: ANY?, algoConfiguration :: MAP?) :: (requiredMemory :: STRING?, treeView :: STRING?, mapView :: MAP?, bytesMin :: INTEGER?, bytesMax :: INTEGER?, nodeCount :: INTEGER?, relationshipCount :: INTEGER?, heapPercentageMin :: FLOAT?, heapPercentageMax :: FLOAT?)\",\n",
            "      \"type\":\"procedure\"\n",
            "    },\n",
            "    {\n",
            "      \"index\":4,\n",
            "      \"name\":\"gds.allShortestPaths.delta.write\",\n",
            "      \"description\":\"The Delta Stepping shortest path algorithm computes the shortest (weighted) path between one node and any other node in the graph. The computation is run multi-threaded\",\n",
            "      \"signature\":\"gds.allShortestPaths.delta.write(graphName :: STRING?, configuration = {} :: MAP?) :: (relationshipsWritten :: INTEGER?, writeMillis :: INTEGER?, postProcessingMillis :: INTEGER?, preProcessingMillis :: INTEGER?, computeMillis :: INTEGER?, configuration :: MAP?)\",\n",
            "      \"type\":\"procedure\"\n",
            "    }\n",
            "  ]\n",
            "}\n"
          ]
        }
      ]
    },
    {
      "cell_type": "code",
      "source": [
        "# Import for the JSON helper function\n",
        "from neo4j.time import DateTime\n",
        "\n",
        "# Helper function for serializing Neo4j DateTime in JSON dumps\n",
        "def default(o):\n",
        "    if isinstance(o, (DateTime)):\n",
        "        return o.isoformat()\n",
        "\n",
        "# Run the graph generation algorithm\n",
        "g, _ = gds.beta.graph.generate(\n",
        "    \"example-graph\", 10, 3, relationshipDistribution=\"POWER_LAW\"\n",
        ")\n",
        "\n",
        "# Drop the graph keeping the result of the operation, which contains \n",
        "# some DateTime fields (\"creationTime\" and \"modificationTime\")\n",
        "result = gds.graph.drop(g)\n",
        "\n",
        "# Print the result as JSON, converting the DateTime fields with\n",
        "# the handler defined above\n",
        "print(result.to_json(indent=2, default_handler=default))"
      ],
      "metadata": {
        "colab": {
          "base_uri": "https://localhost:8080/"
        },
        "id": "CtZeY9iP03q7",
        "outputId": "da869eec-a7f2-45fb-c910-bc95435fd5bb"
      },
      "execution_count": null,
      "outputs": [
        {
          "output_type": "stream",
          "name": "stdout",
          "text": [
            "{\n",
            "  \"graphName\":\"example-graph\",\n",
            "  \"database\":\"neo4j\",\n",
            "  \"memoryUsage\":\"\",\n",
            "  \"sizeInBytes\":-1,\n",
            "  \"nodeCount\":10,\n",
            "  \"relationshipCount\":30,\n",
            "  \"configuration\":{\n",
            "    \"orientation\":\"NATURAL\",\n",
            "    \"relationshipProperty\":{\n",
            "\n",
            "    },\n",
            "    \"allowSelfLoops\":false,\n",
            "    \"creationTime\":\"2022-04-07T21:33:51.719524000+00:00\",\n",
            "    \"nodeProjections\":{\n",
            "      \"10_Nodes\":{\n",
            "        \"label\":\"10_Nodes\",\n",
            "        \"properties\":{\n",
            "\n",
            "        }\n",
            "      }\n",
            "    },\n",
            "    \"aggregation\":\"NONE\",\n",
            "    \"sudo\":false,\n",
            "    \"relationshipProjections\":{\n",
            "      \"REL\":{\n",
            "        \"orientation\":\"NATURAL\",\n",
            "        \"aggregation\":\"NONE\",\n",
            "        \"type\":\"REL\",\n",
            "        \"properties\":{\n",
            "\n",
            "        }\n",
            "      }\n",
            "    },\n",
            "    \"relationshipDistribution\":\"POWER_LAW\",\n",
            "    \"relationshipSeed\":null,\n",
            "    \"username\":null\n",
            "  },\n",
            "  \"density\":0.3333333333,\n",
            "  \"creationTime\":\"2022-04-07T21:33:51.719524000+00:00\",\n",
            "  \"modificationTime\":\"2022-04-07T21:33:51.720914000+00:00\",\n",
            "  \"schema\":{\n",
            "    \"relationships\":{\n",
            "      \"REL\":{\n",
            "\n",
            "      }\n",
            "    },\n",
            "    \"nodes\":{\n",
            "      \"__ALL__\":{\n",
            "\n",
            "      }\n",
            "    }\n",
            "  }\n",
            "}\n"
          ]
        }
      ]
    }
  ]
}