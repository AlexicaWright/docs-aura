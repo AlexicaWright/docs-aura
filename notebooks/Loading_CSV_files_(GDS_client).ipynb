{
  "nbformat": 4,
  "nbformat_minor": 0,
  "metadata": {
    "colab": {
      "provenance": []
    },
    "kernelspec": {
      "name": "python3",
      "display_name": "Python 3"
    },
    "language_info": {
      "name": "python"
    }
  },
  "cells": [
    {
      "cell_type": "markdown",
      "source": [
        "# Setup"
      ],
      "metadata": {
        "id": "RFoThgm6i9og"
      }
    },
    {
      "cell_type": "code",
      "source": [
        "!pip install graphdatascience"
      ],
      "metadata": {
        "colab": {
          "base_uri": "https://localhost:8080/"
        },
        "id": "i41gt8hGVmz6",
        "outputId": "a373f5e6-25b3-452a-adf3-cabe62835921"
      },
      "execution_count": null,
      "outputs": [
        {
          "output_type": "stream",
          "name": "stdout",
          "text": [
            "Collecting graphdatascience\n",
            "  Downloading graphdatascience-1.0.0-py3-none-any.whl (34 kB)\n",
            "Collecting neo4j<5.0,>=4.4.2\n",
            "  Downloading neo4j-4.4.2.tar.gz (89 kB)\n",
            "     |████████████████████████████████| 89 kB 3.9 MB/s             \n",
            "\u001b[?25h  Preparing metadata (setup.py) ... \u001b[?25l\u001b[?25hdone\n",
            "Requirement already satisfied: pandas<2.0,>=1.0 in /usr/local/lib/python3.7/dist-packages (from graphdatascience) (1.3.5)\n",
            "Requirement already satisfied: pytz in /usr/local/lib/python3.7/dist-packages (from neo4j<5.0,>=4.4.2->graphdatascience) (2018.9)\n",
            "Requirement already satisfied: python-dateutil>=2.7.3 in /usr/local/lib/python3.7/dist-packages (from pandas<2.0,>=1.0->graphdatascience) (2.8.2)\n",
            "Requirement already satisfied: numpy>=1.17.3 in /usr/local/lib/python3.7/dist-packages (from pandas<2.0,>=1.0->graphdatascience) (1.21.5)\n",
            "Requirement already satisfied: six>=1.5 in /usr/local/lib/python3.7/dist-packages (from python-dateutil>=2.7.3->pandas<2.0,>=1.0->graphdatascience) (1.15.0)\n",
            "Building wheels for collected packages: neo4j\n",
            "  Building wheel for neo4j (setup.py) ... \u001b[?25l\u001b[?25hdone\n",
            "  Created wheel for neo4j: filename=neo4j-4.4.2-py3-none-any.whl size=115365 sha256=3224f38a507435979e0b5832e03193e5b4da4eb113d5ef414c688c09385ca49c\n",
            "  Stored in directory: /root/.cache/pip/wheels/10/d6/28/95029d7f69690dbc3b93e4933197357987de34fbd44b50a0e4\n",
            "Successfully built neo4j\n",
            "Installing collected packages: neo4j, graphdatascience\n",
            "Successfully installed graphdatascience-1.0.0 neo4j-4.4.2\n",
            "\u001b[33mWARNING: Running pip as the 'root' user can result in broken permissions and conflicting behaviour with the system package manager. It is recommended to use a virtual environment instead: https://pip.pypa.io/warnings/venv\u001b[0m\n"
          ]
        }
      ]
    },
    {
      "cell_type": "code",
      "source": [
        "# Client import\n",
        "from graphdatascience import GraphDataScience\n",
        "\n",
        "# Connection details\n",
        "# Aura queries use an encrypted connection using the \"neo4j+s\" URI scheme\n",
        "AURA_CONNECTION_URI = \"neo4j+s://xxxxxxxx.databases.neo4j.io\"\n",
        "AURA_USERNAME = \"neo4j\"\n",
        "AURA_PASSWORD = \"\"\n",
        "\n",
        "# Configures the client with AuraDS-recommended settings\n",
        "gds = GraphDataScience(\n",
        "    AURA_CONNECTION_URI,\n",
        "    auth=(AURA_USERNAME, AURA_PASSWORD),\n",
        "    aura_ds=True\n",
        ")"
      ],
      "metadata": {
        "id": "ojv-POzW-Hm2"
      },
      "execution_count": null,
      "outputs": []
    },
    {
      "cell_type": "code",
      "source": [
        "# Imported to prettify some results\n",
        "import json\n",
        "\n",
        "# Imported for the JSON helper function\n",
        "from neo4j.time import DateTime\n",
        "\n",
        "# Helper function for serialising Neo4j DateTime in JSON dumps\n",
        "def default(o):\n",
        "    if isinstance(o, (DateTime)):\n",
        "        return o.isoformat()"
      ],
      "metadata": {
        "id": "El-AY4ou-NAh"
      },
      "execution_count": null,
      "outputs": []
    },
    {
      "cell_type": "markdown",
      "source": [
        "# Create constraints"
      ],
      "metadata": {
        "id": "JPnoWMAR-Til"
      }
    },
    {
      "cell_type": "code",
      "source": [
        "# Make movie titles unique\n",
        "gds.run_cypher(\"\"\"\n",
        "    CREATE CONSTRAINT FOR (movie:Movie) REQUIRE movie.title IS UNIQUE\n",
        "\"\"\")\n",
        "\n",
        "# Make person names unique\n",
        "gds.run_cypher(\"\"\"\n",
        "    CREATE CONSTRAINT FOR (person:Person) REQUIRE person.name IS UNIQUE\n",
        "\"\"\")"
      ],
      "metadata": {
        "id": "Wa6b6pXccDCm",
        "colab": {
          "base_uri": "https://localhost:8080/"
        },
        "outputId": "3f020426-b14f-4eb9-9568-839736d7b852"
      },
      "execution_count": null,
      "outputs": [
        {
          "output_type": "execute_result",
          "data": {
            "text/plain": [
              "[]"
            ]
          },
          "metadata": {},
          "execution_count": 5
        }
      ]
    },
    {
      "cell_type": "markdown",
      "source": [
        "# Load CSV files"
      ],
      "metadata": {
        "id": "EcUXdmCBjI1B"
      }
    },
    {
      "cell_type": "code",
      "source": [
        "# Use \"MERGE\" on indexed label to take advantage of the constraint \n",
        "# while creating nodes.\n",
        "# Use \"ON CREATE SET\" to set properties on created nodes.\n",
        "# Use \"RETURN count(*)\" to show the number of processed rows.\n",
        "gds.run_cypher(\"\"\"\n",
        "    LOAD CSV\n",
        "      WITH HEADERS\n",
        "      FROM 'https://data.neo4j.com/intro/movies/movies.csv' AS row\n",
        "    MERGE (m:Movie {title: row.title})\n",
        "      ON CREATE SET m.released = toInteger(row.released), m.tagline = row.tagline\n",
        "    RETURN count(*)\n",
        "\"\"\")"
      ],
      "metadata": {
        "colab": {
          "base_uri": "https://localhost:8080/"
        },
        "id": "btQy3epx-V2x",
        "outputId": "ceb6238e-b49a-42c9-ee8f-812d610e89b7"
      },
      "execution_count": null,
      "outputs": [
        {
          "output_type": "execute_result",
          "data": {
            "text/plain": [
              "[{'count(*)': 38}]"
            ]
          },
          "metadata": {},
          "execution_count": 10
        }
      ]
    },
    {
      "cell_type": "code",
      "source": [
        "# Use \"MERGE\" on indexed label to take advantage of the constraint \n",
        "# while creating nodes.\n",
        "# Use \"ON CREATE SET\" to set properties on created nodes.\n",
        "# Use \"RETURN count(*)\" to show the number of processed rows.\n",
        "gds.run_cypher(\"\"\"\n",
        "    LOAD CSV\n",
        "      WITH HEADERS\n",
        "      FROM 'https://data.neo4j.com/intro/movies/people.csv' AS row\n",
        "    MERGE (p:Person {name: row.name}) \n",
        "      ON CREATE SET p.born = toInteger(row.born)\n",
        "    RETURN count(*)\n",
        "\"\"\")"
      ],
      "metadata": {
        "colab": {
          "base_uri": "https://localhost:8080/"
        },
        "id": "Aqx4y-z2XFik",
        "outputId": "41dbaf82-a69b-4442-adfc-63196535f107"
      },
      "execution_count": null,
      "outputs": [
        {
          "output_type": "execute_result",
          "data": {
            "text/plain": [
              "[{'count(*)': 102}]"
            ]
          },
          "metadata": {},
          "execution_count": 11
        }
      ]
    },
    {
      "cell_type": "code",
      "source": [
        "# Use \"USING PERIODIC COMMIT\" to control the usage of memory.\n",
        "# Use FIELDTERMINATOR to explicitly set the terminator character.\n",
        "# Use \"MATCH\" and \"MERGE\" to create relationships between matched nodes.\n",
        "# Use \"ON CREATE SET\" to set properties on created relationships.\n",
        "# Use \"RETURN count(*)\" to show the number of processed rows.\n",
        "gds.run_cypher(\"\"\"\n",
        "    USING PERIODIC COMMIT 50\n",
        "    LOAD CSV\n",
        "      WITH HEADERS\n",
        "      FROM 'https://data.neo4j.com/intro/movies/actors.csv' AS row\n",
        "      FIELDTERMINATOR ','\n",
        "    MATCH (p:Person {name: row.person})\n",
        "    MATCH (m:Movie {title: row.movie})\n",
        "    MERGE (p)-[actedIn:ACTED_IN]->(m)\n",
        "      ON CREATE SET actedIn.roles = split(row.roles, ';')\n",
        "    RETURN count(*)\n",
        "\"\"\")"
      ],
      "metadata": {
        "colab": {
          "base_uri": "https://localhost:8080/"
        },
        "id": "Wp_HlYAeXmoN",
        "outputId": "394dd54e-f7ec-49d4-e0ff-4a3a1a5c4f37"
      },
      "execution_count": null,
      "outputs": [
        {
          "output_type": "execute_result",
          "data": {
            "text/plain": [
              "[{'count(*)': 172}]"
            ]
          },
          "metadata": {},
          "execution_count": 12
        }
      ]
    },
    {
      "cell_type": "code",
      "source": [
        "gds.run_cypher(\"\"\"\n",
        "    MATCH (person:Person {name: \"Keanu Reeves\"})-[:ACTED_IN]->(movie)\n",
        "    RETURN movie.released, COLLECT(movie.title) AS movies\n",
        "    ORDER BY movie.released\n",
        "\"\"\")"
      ],
      "metadata": {
        "colab": {
          "base_uri": "https://localhost:8080/"
        },
        "id": "Sr_CNhl1p_9S",
        "outputId": "49cce17e-5d58-4267-8247-a307e7e928f8"
      },
      "execution_count": null,
      "outputs": [
        {
          "output_type": "execute_result",
          "data": {
            "text/plain": [
              "[{'movie.released': 1975, 'movies': [\"Something's Gotta Give\"]},\n",
              " {'movie.released': 1995, 'movies': ['Johnny Mnemonic']},\n",
              " {'movie.released': 1997, 'movies': [\"The Devil's Advocate\"]},\n",
              " {'movie.released': 1999, 'movies': ['The Matrix']},\n",
              " {'movie.released': 2000, 'movies': ['The Replacements']},\n",
              " {'movie.released': 2003,\n",
              "  'movies': ['The Matrix Reloaded', 'The Matrix Revolutions']}]"
            ]
          },
          "metadata": {},
          "execution_count": 16
        }
      ]
    },
    {
      "cell_type": "markdown",
      "source": [
        "# Cleanup"
      ],
      "metadata": {
        "id": "6Cj2k529jEND"
      }
    },
    {
      "cell_type": "code",
      "source": [
        "# Delete data\n",
        "gds.run_cypher(\"\"\"\n",
        "    MATCH (n)\n",
        "    DETACH DELETE n\n",
        "\"\"\")"
      ],
      "metadata": {
        "colab": {
          "base_uri": "https://localhost:8080/"
        },
        "id": "JzUq5LuXABne",
        "outputId": "c00c6c44-7c39-4575-c7c7-0d800570176f"
      },
      "execution_count": null,
      "outputs": [
        {
          "output_type": "execute_result",
          "data": {
            "text/plain": [
              "[]"
            ]
          },
          "metadata": {},
          "execution_count": 9
        }
      ]
    }
  ]
}